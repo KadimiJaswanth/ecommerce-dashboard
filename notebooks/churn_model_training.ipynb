{
 "cells": [
  {
   "cell_type": "code",
   "execution_count": null,
   "metadata": {
    "vscode": {
     "languageId": "plaintext"
    }
   },
   "outputs": [],
   "source": [
    "import pandas as pd\n",
    "from sklearn.model_selection import train_test_split\n",
    "from sklearn.ensemble import RandomForestClassifier\n",
    "from sklearn.metrics import classification_report\n",
    "import joblib\n",
    "\n",
    "# Load customer features\n",
    "df = pd.read_csv('../data/customer_features.csv')\n",
    "\n",
    "# Define churn: Not purchased in last 180 days = churned\n",
    "df['Churned'] = df['Recency'].apply(lambda x: 1 if x > 180 else 0)\n",
    "\n",
    "# Features and labels\n",
    "X = df[['Recency', 'OrderCount', 'TotalSpent', 'AvgOrderValue']]\n",
    "y = df['Churned']\n",
    "\n",
    "# Train-test split\n",
    "X_train, X_test, y_train, y_test = train_test_split(X, y, test_size=0.2, random_state=42)\n",
    "\n",
    "# Train a classifier\n",
    "model = RandomForestClassifier(n_estimators=100, random_state=42)\n",
    "model.fit(X_train, y_train)\n",
    "\n",
    "# Evaluation\n",
    "print(classification_report(y_test, model.predict(X_test)))\n",
    "\n",
    "# Save the model\n",
    "joblib.dump(model, '../models/churn_predictor.pkl')\n",
    "print(\"✅ Model saved to ../models/churn_predictor.pkl\")\n"
   ]
  }
 ],
 "metadata": {
  "language_info": {
   "name": "python"
  }
 },
 "nbformat": 4,
 "nbformat_minor": 2
}
